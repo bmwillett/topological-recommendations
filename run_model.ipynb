{
 "cells": [
  {
   "cell_type": "code",
   "execution_count": 1,
   "metadata": {},
   "outputs": [
    {
     "name": "stderr",
     "output_type": "stream",
     "text": [
      "Using TensorFlow backend.\n"
     ]
    }
   ],
   "source": [
    "from lib.process_data import instacart_process\n",
    "from lib.data_class import DataSet\n",
    "from models.latent_models import UserModel, ProductModel\n",
    "from models.feature_models import MainFeatureModel\n",
    "from models.main_models import NonTopModel"
   ]
  },
  {
   "cell_type": "code",
   "execution_count": 2,
   "metadata": {},
   "outputs": [],
   "source": [
    "import numpy as np\n",
    "import logging\n",
    "log = logging.getLogger(\"TR_logger\")"
   ]
  },
  {
   "cell_type": "code",
   "execution_count": 3,
   "metadata": {},
   "outputs": [],
   "source": [
    "IC_DATA_DIR = './data/instacart_2017_05_01_small/'\n",
    "logging.basicConfig()\n",
    "log.setLevel(logging.INFO)"
   ]
  },
  {
   "cell_type": "code",
   "execution_count": 4,
   "metadata": {},
   "outputs": [],
   "source": [
    "# set random seed for consistent tests\n",
    "np.random.seed(42)\n",
    "\n",
    "# load data from instacart csv files (values below use testing directory)\n",
    "order_data, product_data = instacart_process(data_dir=IC_DATA_DIR)\n",
    "\n",
    "# create dataset\n",
    "ic_dataset = DataSet(order_df=order_data, product_df=product_data)\n",
    "\n",
    "# train-val-test split\n",
    "train_dataset, test_val_dataset = ic_dataset.train_test_split()\n",
    "val_dataset, test_dataset = test_val_dataset.train_test_split(test_frac=0.5)"
   ]
  },
  {
   "cell_type": "code",
   "execution_count": 5,
   "metadata": {},
   "outputs": [
    {
     "name": "stdout",
     "output_type": "stream",
     "text": [
      "(334091, 4)\n",
      "(253109, 4)\n",
      "(38666, 4)\n",
      "(42316, 4)\n"
     ]
    }
   ],
   "source": [
    "print(ic_dataset.order_df.shape)\n",
    "print(train_dataset.order_df.shape)\n",
    "print(val_dataset.order_df.shape)\n",
    "print(test_dataset.order_df.shape)"
   ]
  },
  {
   "cell_type": "code",
   "execution_count": 6,
   "metadata": {},
   "outputs": [
    {
     "name": "stdout",
     "output_type": "stream",
     "text": [
      "(98027, 32)\n"
     ]
    }
   ],
   "source": [
    "# create user latent model, fit and transform\n",
    "user_latent = UserModel()\n",
    "user_latent.fit(train_dataset)\n",
    "user_encoding = user_latent.transform(train_dataset)\n",
    "print(user_encoding.shape)"
   ]
  },
  {
   "cell_type": "code",
   "execution_count": 7,
   "metadata": {},
   "outputs": [
    {
     "name": "stdout",
     "output_type": "stream",
     "text": [
      "(98027, 10)\n"
     ]
    }
   ],
   "source": [
    "# create product latent model, fit and transform\n",
    "product_latent = ProductModel()\n",
    "product_latent.fit(train_dataset)\n",
    "product_encoding = product_latent.transform(train_dataset)\n",
    "print(product_encoding.shape)"
   ]
  },
  {
   "cell_type": "code",
   "execution_count": 8,
   "metadata": {},
   "outputs": [
    {
     "name": "stdout",
     "output_type": "stream",
     "text": [
      "(98027, 8)\n"
     ]
    }
   ],
   "source": [
    "# create feature model\n",
    "feature_model = MainFeatureModel()\n",
    "X = feature_model.transform(train_dataset)\n",
    "print(X.shape)"
   ]
  },
  {
   "cell_type": "code",
   "execution_count": 9,
   "metadata": {},
   "outputs": [
    {
     "name": "stdout",
     "output_type": "stream",
     "text": [
      "50\n"
     ]
    }
   ],
   "source": [
    "# fit model to train_dataset\n",
    "model = NonTopModel(user_latent_model=user_latent, product_latent_model=product_latent, feature_model=feature_model)\n",
    "model.fit(train_dataset, fit_latent=False, epochs=50)\n",
    "print(model.input_dim)"
   ]
  },
  {
   "cell_type": "code",
   "execution_count": 10,
   "metadata": {},
   "outputs": [
    {
     "data": {
      "text/plain": [
       "array([0.28959152, 0.2912253 , 0.29087073, ..., 0.04699376, 0.00533277,\n",
       "       0.00488029], dtype=float32)"
      ]
     },
     "execution_count": 10,
     "metadata": {},
     "output_type": "execute_result"
    }
   ],
   "source": [
    "# predict on test_dataset\n",
    "model.predict(test_dataset)"
   ]
  },
  {
   "cell_type": "code",
   "execution_count": 11,
   "metadata": {},
   "outputs": [
    {
     "name": "stdout",
     "output_type": "stream",
     "text": [
      "0.21052631578947367\n"
     ]
    }
   ],
   "source": [
    "print(model.find_threshold(val_dataset))"
   ]
  },
  {
   "cell_type": "code",
   "execution_count": 12,
   "metadata": {},
   "outputs": [
    {
     "data": {
      "text/plain": [
       "[0.97052460789616,\n",
       " 0.42684660847595657,\n",
       " 0.46896857742622355,\n",
       " 0.3716608715738018,\n",
       " 0.6816989127095386]"
      ]
     },
     "execution_count": 12,
     "metadata": {},
     "output_type": "execute_result"
    }
   ],
   "source": [
    "model.evaluate(val_dataset)"
   ]
  }
 ],
 "metadata": {
  "kernelspec": {
   "display_name": "env",
   "language": "python",
   "name": "env"
  },
  "language_info": {
   "codemirror_mode": {
    "name": "ipython",
    "version": 3
   },
   "file_extension": ".py",
   "mimetype": "text/x-python",
   "name": "python",
   "nbconvert_exporter": "python",
   "pygments_lexer": "ipython3",
   "version": "3.8.2"
  }
 },
 "nbformat": 4,
 "nbformat_minor": 4
}
