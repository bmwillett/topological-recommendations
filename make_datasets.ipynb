{
 "cells": [
  {
   "cell_type": "code",
   "execution_count": 39,
   "metadata": {},
   "outputs": [],
   "source": [
    "import pandas as pd\n",
    "import numpy as np\n",
    "import os\n",
    "\n",
    "IC_DATA_DIR = './data/instacart_2017_05_01/'\n",
    "SMALL_IC_DATA_DIR = './data/instacart_2017_05_01_small/'"
   ]
  },
  {
   "cell_type": "code",
   "execution_count": 46,
   "metadata": {},
   "outputs": [],
   "source": [
    "def make_instacart_small(user_frac=0.01, data_dir=IC_DATA_DIR,\n",
    "                         output_dir=SMALL_IC_DATA_DIR, verbose=0):\n",
    "    \"\"\"\n",
    "    creates smaller version of instacart dataset for faster testing\n",
    "\n",
    "    :param user_frac: fraction of users to keep\n",
    "    :param data_dir: input data directory\n",
    "    :param output_dir: output directory for small dataset\n",
    "    \n",
    "    :return: None\n",
    "    \"\"\"\n",
    "    \n",
    "    # load dataframes for full dataset\n",
    "    priors = pd.read_csv(data_dir + 'order_products__prior.csv')\n",
    "    train = pd.read_csv(data_dir + 'order_products__train.csv')\n",
    "    orders = pd.read_csv(data_dir + 'orders.csv')\n",
    "    products = pd.read_csv(data_dir + 'products.csv')\n",
    "    aisles = pd.read_csv(data_dir + 'aisles.csv')\n",
    "    departments = pd.read_csv(data_dir + 'departments.csv')\n",
    "\n",
    "    if verbose>1:\n",
    "        print(\"\\noriginal sizes:\")\n",
    "        print(\"priors: \", priors.shape)\n",
    "        print(\"train: \", train.shape)\n",
    "        print(\"orders: \", orders.shape)\n",
    "        print(\"products: \", products.shape)\n",
    "        print(\"aisles: \", aisles.shape)\n",
    "        print(\"departments: \", departments.shape)\n",
    "        \n",
    "    # get list of user ids and select subset\n",
    "    user_ids = orders.user_id.unique()\n",
    "    user_ids = np.random.choice(user_ids, int(len(user_ids) * user_frac), replace=False)\n",
    "\n",
    "    # get list of order ids corresponding to selected users, create small orders dataframe\n",
    "    orders_small = orders[orders.user_id.isin(user_ids)]\n",
    "    order_ids = orders_small.order_id.unique()\n",
    "\n",
    "    # create small prior and train dataframes\n",
    "    priors_small = priors[priors.order_id.isin(order_ids)]\n",
    "    train_small = train[train.order_id.isin(order_ids)]\n",
    "\n",
    "    # get list of all products occuring in selected orders, create small product dataframe\n",
    "    product_ids = pd.concat([priors_small.product_id,train_small.product_id]).unique()\n",
    "    products_small = products[products.product_id.isin(product_ids)]\n",
    "\n",
    "    # get list of aisle and department ids occuring in products, create corresponding small dataframes\n",
    "    aisle_ids = products_small.aisle_id.unique()\n",
    "    aisles_small = aisles[aisles.aisle_id.isin(aisle_ids)]\n",
    "    department_ids = products_small.department_id.unique()\n",
    "    departments_small = departments[departments.department_id.isin(department_ids)]\n",
    "\n",
    "    if verbose>0:\n",
    "        print(\"\\nnew sizes:\")\n",
    "        print(\"priors: \", priors_small.shape)\n",
    "        print(\"train: \", train_small.shape)\n",
    "        print(\"orders: \", orders_small.shape)\n",
    "        print(\"products: \", products_small.shape)\n",
    "        print(\"aisles: \", aisles_small.shape)\n",
    "        print(\"departments: \", departments_small.shape)\n",
    "    \n",
    "    if not os.path.exists(output_dir):\n",
    "        os.mkdir(output_dir)\n",
    "    priors_small.to_csv(output_dir + 'order_products__prior.csv', index=False)\n",
    "    train_small.to_csv(output_dir + 'order_products__train.csv', index=False)\n",
    "    orders_small.to_csv(output_dir + 'orders.csv', index=False)\n",
    "    products_small.to_csv(output_dir + 'products.csv', index=False)\n",
    "    aisles_small.to_csv(output_dir + 'aisles.csv', index=False)\n",
    "    departments_small.to_csv(output_dir + 'departments.csv', index=False)"
   ]
  },
  {
   "cell_type": "code",
   "execution_count": 47,
   "metadata": {},
   "outputs": [
    {
     "name": "stdout",
     "output_type": "stream",
     "text": [
      "\n",
      "original sizes:\n",
      "priors:  (32434489, 4)\n",
      "train:  (1384617, 4)\n",
      "orders:  (3421083, 7)\n",
      "products:  (49688, 4)\n",
      "aisles:  (134, 2)\n",
      "departments:  (21, 2)\n",
      "\n",
      "new sizes:\n",
      "priors:  (2052, 4)\n",
      "train:  (122, 4)\n",
      "orders:  (225, 7)\n",
      "products:  (972, 4)\n",
      "aisles:  (115, 2)\n",
      "departments:  (20, 2)\n"
     ]
    }
   ],
   "source": [
    "make_instacart_small(user_frac=0.0001, output_dir='./data/instacart_2017_05_01_micro/', verbose=2)"
   ]
  },
  {
   "cell_type": "code",
   "execution_count": 48,
   "metadata": {},
   "outputs": [
    {
     "name": "stdout",
     "output_type": "stream",
     "text": [
      "\n",
      "new sizes:\n",
      "priors:  (29653, 4)\n",
      "train:  (1379, 4)\n",
      "orders:  (3068, 7)\n",
      "products:  (6126, 4)\n",
      "aisles:  (134, 2)\n",
      "departments:  (21, 2)\n"
     ]
    }
   ],
   "source": [
    "make_instacart_small(user_frac=0.001, output_dir='./data/instacart_2017_05_01_tiny/', verbose=1)"
   ]
  },
  {
   "cell_type": "code",
   "execution_count": 49,
   "metadata": {},
   "outputs": [
    {
     "name": "stdout",
     "output_type": "stream",
     "text": [
      "\n",
      "new sizes:\n",
      "priors:  (320909, 4)\n",
      "train:  (13182, 4)\n",
      "orders:  (34773, 7)\n",
      "products:  (21726, 4)\n",
      "aisles:  (134, 2)\n",
      "departments:  (21, 2)\n"
     ]
    }
   ],
   "source": [
    "make_instacart_small(user_frac=0.01, output_dir='./data/instacart_2017_05_01_small/', verbose=1)"
   ]
  },
  {
   "cell_type": "code",
   "execution_count": 50,
   "metadata": {},
   "outputs": [
    {
     "name": "stdout",
     "output_type": "stream",
     "text": [
      "\n",
      "new sizes:\n",
      "priors:  (3268549, 4)\n",
      "train:  (140223, 4)\n",
      "orders:  (343116, 7)\n",
      "products:  (41851, 4)\n",
      "aisles:  (134, 2)\n",
      "departments:  (21, 2)\n"
     ]
    }
   ],
   "source": [
    "make_instacart_small(user_frac=0.1, output_dir='./data/instacart_2017_05_01_medium/', verbose=1)"
   ]
  },
  {
   "cell_type": "code",
   "execution_count": null,
   "metadata": {},
   "outputs": [],
   "source": []
  }
 ],
 "metadata": {
  "kernelspec": {
   "display_name": "env",
   "language": "python",
   "name": "env"
  },
  "language_info": {
   "codemirror_mode": {
    "name": "ipython",
    "version": 3
   },
   "file_extension": ".py",
   "mimetype": "text/x-python",
   "name": "python",
   "nbconvert_exporter": "python",
   "pygments_lexer": "ipython3",
   "version": "3.8.2"
  }
 },
 "nbformat": 4,
 "nbformat_minor": 4
}
