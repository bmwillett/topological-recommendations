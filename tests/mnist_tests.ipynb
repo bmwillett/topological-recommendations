{
 "cells": [
  {
   "cell_type": "markdown",
   "metadata": {},
   "source": [
    "# Experiments with MNIST and mapper classsifier"
   ]
  },
  {
   "cell_type": "code",
   "execution_count": 1,
   "metadata": {},
   "outputs": [
    {
     "name": "stderr",
     "output_type": "stream",
     "text": [
      "Using TensorFlow backend.\n"
     ]
    }
   ],
   "source": [
    "import tensorflow as tf\n",
    "import keras\n",
    "from keras import backend as K\n",
    "from keras.datasets import mnist\n",
    "from contextlib import contextmanager\n",
    "from timeit import default_timer\n",
    "\n",
    "@contextmanager\n",
    "def elapsed_timer():\n",
    "    start = default_timer()\n",
    "    elapser = lambda: default_timer() - start\n",
    "    yield lambda: elapser()\n",
    "    end = default_timer()\n",
    "    elapser = lambda: end-start"
   ]
  },
  {
   "cell_type": "markdown",
   "metadata": {},
   "source": [
    "## Load MNIST data"
   ]
  },
  {
   "cell_type": "code",
   "execution_count": 2,
   "metadata": {},
   "outputs": [
    {
     "name": "stdout",
     "output_type": "stream",
     "text": [
      "x_train shape: (60000, 28, 28, 1)\n",
      "60000 train samples\n",
      "10000 test samples\n"
     ]
    }
   ],
   "source": [
    "(x_train, y_train), (x_test, y_test) = mnist.load_data()\n",
    "\n",
    "batch_size = 128\n",
    "num_classes = 10\n",
    "epochs = 12\n",
    "\n",
    "# input image dimensions\n",
    "img_rows, img_cols = 28, 28\n",
    "\n",
    "if K.image_data_format() == 'channels_first':\n",
    "    x_train = x_train.reshape(x_train.shape[0], 1, img_rows, img_cols)\n",
    "    x_test = x_test.reshape(x_test.shape[0], 1, img_rows, img_cols)\n",
    "    input_shape = (1, img_rows, img_cols)\n",
    "else:\n",
    "    x_train = x_train.reshape(x_train.shape[0], img_rows, img_cols, 1)\n",
    "    x_test = x_test.reshape(x_test.shape[0], img_rows, img_cols, 1)\n",
    "    input_shape = (img_rows, img_cols, 1)\n",
    "\n",
    "x_train = x_train.astype('float32')\n",
    "x_test = x_test.astype('float32')\n",
    "x_train /= 255\n",
    "x_test /= 255\n",
    "print('x_train shape:', x_train.shape)\n",
    "print(x_train.shape[0], 'train samples')\n",
    "print(x_test.shape[0], 'test samples')\n",
    "\n",
    "# convert class vectors to binary class matrices\n",
    "y_train = keras.utils.to_categorical(y_train, num_classes)\n",
    "y_test = keras.utils.to_categorical(y_test, num_classes)"
   ]
  },
  {
   "cell_type": "markdown",
   "metadata": {},
   "source": [
    "## Dense NN classifier"
   ]
  },
  {
   "cell_type": "code",
   "execution_count": 3,
   "metadata": {},
   "outputs": [
    {
     "name": "stdout",
     "output_type": "stream",
     "text": [
      "Epoch 1/12\n",
      "469/469 [==============================] - 1s 2ms/step - loss: 0.3601 - accuracy: 0.8998 - val_loss: 0.1968 - val_accuracy: 0.9439\n",
      "Epoch 2/12\n",
      "469/469 [==============================] - 1s 2ms/step - loss: 0.1649 - accuracy: 0.9528 - val_loss: 0.1359 - val_accuracy: 0.9609\n",
      "Epoch 3/12\n",
      "469/469 [==============================] - 1s 2ms/step - loss: 0.1186 - accuracy: 0.9662 - val_loss: 0.1116 - val_accuracy: 0.9665\n",
      "Epoch 4/12\n",
      "469/469 [==============================] - 1s 2ms/step - loss: 0.0921 - accuracy: 0.9738 - val_loss: 0.0954 - val_accuracy: 0.9716\n",
      "Epoch 5/12\n",
      "469/469 [==============================] - 1s 2ms/step - loss: 0.0743 - accuracy: 0.9781 - val_loss: 0.0899 - val_accuracy: 0.9719\n",
      "Epoch 6/12\n",
      "469/469 [==============================] - 1s 2ms/step - loss: 0.0605 - accuracy: 0.9827 - val_loss: 0.0870 - val_accuracy: 0.9742\n",
      "Epoch 7/12\n",
      "469/469 [==============================] - 1s 2ms/step - loss: 0.0513 - accuracy: 0.9852 - val_loss: 0.0776 - val_accuracy: 0.9779\n",
      "Epoch 8/12\n",
      "469/469 [==============================] - 1s 3ms/step - loss: 0.0435 - accuracy: 0.9876 - val_loss: 0.0738 - val_accuracy: 0.9773\n",
      "Epoch 9/12\n",
      "469/469 [==============================] - 1s 2ms/step - loss: 0.0369 - accuracy: 0.9895 - val_loss: 0.0738 - val_accuracy: 0.9787\n",
      "Epoch 10/12\n",
      "469/469 [==============================] - 1s 2ms/step - loss: 0.0317 - accuracy: 0.9911 - val_loss: 0.0756 - val_accuracy: 0.9778\n",
      "Epoch 11/12\n",
      "469/469 [==============================] - 1s 2ms/step - loss: 0.0260 - accuracy: 0.9927 - val_loss: 0.0721 - val_accuracy: 0.9789\n",
      "Epoch 12/12\n",
      "469/469 [==============================] - 1s 2ms/step - loss: 0.0218 - accuracy: 0.9947 - val_loss: 0.0706 - val_accuracy: 0.9794\n"
     ]
    },
    {
     "data": {
      "text/plain": [
       "<tensorflow.python.keras.callbacks.History at 0x137202040>"
      ]
     },
     "execution_count": 3,
     "metadata": {},
     "output_type": "execute_result"
    }
   ],
   "source": [
    "model = tf.keras.models.Sequential([\n",
    "  tf.keras.layers.Flatten(input_shape=(28, 28, 1)),\n",
    "  tf.keras.layers.Dense(128,activation='relu'),\n",
    "  tf.keras.layers.Dense(10, activation='softmax')\n",
    "])\n",
    "\n",
    "model.compile(\n",
    "    loss='categorical_crossentropy',\n",
    "    optimizer=tf.keras.optimizers.Adam(0.001),\n",
    "    metrics=['accuracy'],\n",
    ")\n",
    "\n",
    "model.fit(x_train, y_train,\n",
    "          batch_size=batch_size,\n",
    "          epochs=epochs,\n",
    "          verbose=1,\n",
    "          validation_data=(x_test, y_test))"
   ]
  },
  {
   "cell_type": "markdown",
   "metadata": {},
   "source": [
    "## Mapper Classifier\n",
    "\n",
    "Brief outline of algorithm:\n",
    "   - "
   ]
  },
  {
   "cell_type": "code",
   "execution_count": 4,
   "metadata": {},
   "outputs": [],
   "source": [
    "from lib.mapper_class_new import *"
   ]
  },
  {
   "cell_type": "code",
   "execution_count": 5,
   "metadata": {},
   "outputs": [],
   "source": [
    "mapper = MapperClassifier(n_components=5, NRNN=3, n_intervals=10)"
   ]
  },
  {
   "cell_type": "code",
   "execution_count": 6,
   "metadata": {},
   "outputs": [
    {
     "name": "stdout",
     "output_type": "stream",
     "text": [
      "517.075609915\n"
     ]
    }
   ],
   "source": [
    "small_size = 10000\n",
    "x_train_small = x_train[:small_size,::]\n",
    "y_train_small = y_train[:small_size,::]\n",
    "\n",
    "x_train_flat = np.reshape(x_train_small, (len(x_train_small),784))\n",
    "\n",
    "with elapsed_timer() as elapsed:\n",
    "    x_map = mapper.fit(x_train_flat).astype('float32')\n",
    "print(elapsed())"
   ]
  },
  {
   "cell_type": "code",
   "execution_count": 7,
   "metadata": {},
   "outputs": [
    {
     "name": "stdout",
     "output_type": "stream",
     "text": [
      "(10000, 784)\n",
      "(10000, 9393)\n"
     ]
    }
   ],
   "source": [
    "print(x_train_flat.shape)\n",
    "print(x_map.shape)"
   ]
  },
  {
   "cell_type": "code",
   "execution_count": 8,
   "metadata": {},
   "outputs": [
    {
     "name": "stdout",
     "output_type": "stream",
     "text": [
      "Epoch 1/100\n",
      "79/79 [==============================] - 0s 5ms/step - loss: 2.0061 - accuracy: 0.3384\n",
      "Epoch 2/100\n",
      "79/79 [==============================] - 0s 5ms/step - loss: 1.2419 - accuracy: 0.5924\n",
      "Epoch 3/100\n",
      "79/79 [==============================] - 0s 5ms/step - loss: 0.9844 - accuracy: 0.6753\n",
      "Epoch 4/100\n",
      "79/79 [==============================] - 0s 5ms/step - loss: 0.8465 - accuracy: 0.7348\n",
      "Epoch 5/100\n",
      "79/79 [==============================] - 0s 5ms/step - loss: 0.7380 - accuracy: 0.7804\n",
      "Epoch 6/100\n",
      "79/79 [==============================] - 0s 5ms/step - loss: 0.6519 - accuracy: 0.8149\n",
      "Epoch 7/100\n",
      "79/79 [==============================] - 0s 5ms/step - loss: 0.5891 - accuracy: 0.8274\n",
      "Epoch 8/100\n",
      "79/79 [==============================] - 0s 5ms/step - loss: 0.5410 - accuracy: 0.8403\n",
      "Epoch 9/100\n",
      "79/79 [==============================] - 0s 5ms/step - loss: 0.5060 - accuracy: 0.8474\n",
      "Epoch 10/100\n",
      "79/79 [==============================] - 0s 5ms/step - loss: 0.4790 - accuracy: 0.8521\n",
      "Epoch 11/100\n",
      "79/79 [==============================] - 0s 5ms/step - loss: 0.4612 - accuracy: 0.8544\n",
      "Epoch 12/100\n",
      "79/79 [==============================] - 0s 5ms/step - loss: 0.4464 - accuracy: 0.8597\n",
      "Epoch 13/100\n",
      "79/79 [==============================] - 0s 5ms/step - loss: 0.4321 - accuracy: 0.8611\n",
      "Epoch 14/100\n",
      "79/79 [==============================] - 0s 5ms/step - loss: 0.4222 - accuracy: 0.8610\n",
      "Epoch 15/100\n",
      "79/79 [==============================] - 0s 6ms/step - loss: 0.4152 - accuracy: 0.8638\n",
      "Epoch 16/100\n",
      "79/79 [==============================] - 0s 5ms/step - loss: 0.4057 - accuracy: 0.8637\n",
      "Epoch 17/100\n",
      "79/79 [==============================] - 0s 5ms/step - loss: 0.4007 - accuracy: 0.8651\n",
      "Epoch 18/100\n",
      "79/79 [==============================] - 0s 6ms/step - loss: 0.3969 - accuracy: 0.8671\n",
      "Epoch 19/100\n",
      "79/79 [==============================] - 0s 5ms/step - loss: 0.3905 - accuracy: 0.8677\n",
      "Epoch 20/100\n",
      "79/79 [==============================] - 0s 6ms/step - loss: 0.3866 - accuracy: 0.8666\n",
      "Epoch 21/100\n",
      "79/79 [==============================] - 0s 5ms/step - loss: 0.3832 - accuracy: 0.8678\n",
      "Epoch 22/100\n",
      "79/79 [==============================] - 0s 6ms/step - loss: 0.3793 - accuracy: 0.8683\n",
      "Epoch 23/100\n",
      "79/79 [==============================] - 0s 5ms/step - loss: 0.3794 - accuracy: 0.8683\n",
      "Epoch 24/100\n",
      "79/79 [==============================] - 0s 6ms/step - loss: 0.3724 - accuracy: 0.8710\n",
      "Epoch 25/100\n",
      "79/79 [==============================] - 0s 5ms/step - loss: 0.3712 - accuracy: 0.8713\n",
      "Epoch 26/100\n",
      "79/79 [==============================] - 0s 6ms/step - loss: 0.3663 - accuracy: 0.8709\n",
      "Epoch 27/100\n",
      "79/79 [==============================] - 0s 6ms/step - loss: 0.3653 - accuracy: 0.8716\n",
      "Epoch 28/100\n",
      "79/79 [==============================] - 0s 5ms/step - loss: 0.3614 - accuracy: 0.8747\n",
      "Epoch 29/100\n",
      "79/79 [==============================] - 0s 5ms/step - loss: 0.3597 - accuracy: 0.8736\n",
      "Epoch 30/100\n",
      "79/79 [==============================] - 0s 5ms/step - loss: 0.3544 - accuracy: 0.8747\n",
      "Epoch 31/100\n",
      "79/79 [==============================] - 0s 5ms/step - loss: 0.3556 - accuracy: 0.8766\n",
      "Epoch 32/100\n",
      "79/79 [==============================] - 0s 5ms/step - loss: 0.3526 - accuracy: 0.8749\n",
      "Epoch 33/100\n",
      "79/79 [==============================] - 0s 5ms/step - loss: 0.3501 - accuracy: 0.8765\n",
      "Epoch 34/100\n",
      "79/79 [==============================] - 0s 6ms/step - loss: 0.3460 - accuracy: 0.8782\n",
      "Epoch 35/100\n",
      "79/79 [==============================] - 0s 5ms/step - loss: 0.3425 - accuracy: 0.8796\n",
      "Epoch 36/100\n",
      "79/79 [==============================] - 0s 5ms/step - loss: 0.3415 - accuracy: 0.8771\n",
      "Epoch 37/100\n",
      "79/79 [==============================] - 0s 5ms/step - loss: 0.3410 - accuracy: 0.8805\n",
      "Epoch 38/100\n",
      "79/79 [==============================] - 0s 6ms/step - loss: 0.3401 - accuracy: 0.8799\n",
      "Epoch 39/100\n",
      "79/79 [==============================] - 0s 5ms/step - loss: 0.3374 - accuracy: 0.8807\n",
      "Epoch 40/100\n",
      "79/79 [==============================] - 0s 5ms/step - loss: 0.3348 - accuracy: 0.8819\n",
      "Epoch 41/100\n",
      "79/79 [==============================] - 0s 5ms/step - loss: 0.3352 - accuracy: 0.8801\n",
      "Epoch 42/100\n",
      "79/79 [==============================] - 0s 5ms/step - loss: 0.3340 - accuracy: 0.8835\n",
      "Epoch 43/100\n",
      "79/79 [==============================] - 0s 6ms/step - loss: 0.3303 - accuracy: 0.8807\n",
      "Epoch 44/100\n",
      "79/79 [==============================] - 0s 5ms/step - loss: 0.3290 - accuracy: 0.8844\n",
      "Epoch 45/100\n",
      "79/79 [==============================] - 0s 6ms/step - loss: 0.3293 - accuracy: 0.8823\n",
      "Epoch 46/100\n",
      "79/79 [==============================] - 0s 5ms/step - loss: 0.3252 - accuracy: 0.8853\n",
      "Epoch 47/100\n",
      "79/79 [==============================] - 0s 6ms/step - loss: 0.3238 - accuracy: 0.8845\n",
      "Epoch 48/100\n",
      "79/79 [==============================] - 0s 5ms/step - loss: 0.3216 - accuracy: 0.8837\n",
      "Epoch 49/100\n",
      "79/79 [==============================] - 0s 6ms/step - loss: 0.3230 - accuracy: 0.8837\n",
      "Epoch 50/100\n",
      "79/79 [==============================] - 0s 5ms/step - loss: 0.3230 - accuracy: 0.8841\n",
      "Epoch 51/100\n",
      "79/79 [==============================] - 0s 5ms/step - loss: 0.3199 - accuracy: 0.8852\n",
      "Epoch 52/100\n",
      "79/79 [==============================] - 0s 6ms/step - loss: 0.3196 - accuracy: 0.8873\n",
      "Epoch 53/100\n",
      "79/79 [==============================] - 0s 5ms/step - loss: 0.3174 - accuracy: 0.8873\n",
      "Epoch 54/100\n",
      "79/79 [==============================] - 0s 5ms/step - loss: 0.3204 - accuracy: 0.8851\n",
      "Epoch 55/100\n",
      "79/79 [==============================] - 0s 5ms/step - loss: 0.3158 - accuracy: 0.8856\n",
      "Epoch 56/100\n",
      "79/79 [==============================] - 0s 6ms/step - loss: 0.3163 - accuracy: 0.8848\n",
      "Epoch 57/100\n",
      "79/79 [==============================] - 0s 5ms/step - loss: 0.3203 - accuracy: 0.8858\n",
      "Epoch 58/100\n",
      "79/79 [==============================] - 0s 5ms/step - loss: 0.3117 - accuracy: 0.8848\n",
      "Epoch 59/100\n",
      "79/79 [==============================] - 0s 6ms/step - loss: 0.3124 - accuracy: 0.8877\n",
      "Epoch 60/100\n",
      "79/79 [==============================] - 0s 5ms/step - loss: 0.3107 - accuracy: 0.8857\n",
      "Epoch 61/100\n",
      "79/79 [==============================] - 0s 5ms/step - loss: 0.3111 - accuracy: 0.8882\n",
      "Epoch 62/100\n",
      "79/79 [==============================] - 0s 5ms/step - loss: 0.3068 - accuracy: 0.8907\n",
      "Epoch 63/100\n",
      "79/79 [==============================] - 0s 6ms/step - loss: 0.3090 - accuracy: 0.8866\n",
      "Epoch 64/100\n",
      "79/79 [==============================] - 0s 5ms/step - loss: 0.3068 - accuracy: 0.8881\n",
      "Epoch 65/100\n",
      "79/79 [==============================] - 0s 5ms/step - loss: 0.3060 - accuracy: 0.8884\n",
      "Epoch 66/100\n",
      "79/79 [==============================] - 0s 5ms/step - loss: 0.3063 - accuracy: 0.8877\n",
      "Epoch 67/100\n",
      "79/79 [==============================] - 0s 5ms/step - loss: 0.3039 - accuracy: 0.8903\n",
      "Epoch 68/100\n",
      "79/79 [==============================] - 0s 5ms/step - loss: 0.3023 - accuracy: 0.8914\n",
      "Epoch 69/100\n",
      "79/79 [==============================] - 0s 5ms/step - loss: 0.3022 - accuracy: 0.8893\n",
      "Epoch 70/100\n",
      "79/79 [==============================] - 0s 5ms/step - loss: 0.3037 - accuracy: 0.8920\n",
      "Epoch 71/100\n",
      "79/79 [==============================] - 0s 5ms/step - loss: 0.3017 - accuracy: 0.8899\n",
      "Epoch 72/100\n",
      "79/79 [==============================] - 0s 5ms/step - loss: 0.2987 - accuracy: 0.8921\n",
      "Epoch 73/100\n",
      "79/79 [==============================] - 0s 5ms/step - loss: 0.3005 - accuracy: 0.8920\n",
      "Epoch 74/100\n",
      "79/79 [==============================] - 0s 5ms/step - loss: 0.2970 - accuracy: 0.8918\n",
      "Epoch 75/100\n",
      "79/79 [==============================] - 0s 6ms/step - loss: 0.3011 - accuracy: 0.8911\n",
      "Epoch 76/100\n",
      "79/79 [==============================] - 0s 5ms/step - loss: 0.2967 - accuracy: 0.8925\n",
      "Epoch 77/100\n",
      "79/79 [==============================] - 0s 5ms/step - loss: 0.2963 - accuracy: 0.8930\n",
      "Epoch 78/100\n",
      "79/79 [==============================] - 0s 5ms/step - loss: 0.2942 - accuracy: 0.8929\n",
      "Epoch 79/100\n",
      "79/79 [==============================] - 0s 5ms/step - loss: 0.2954 - accuracy: 0.8913\n",
      "Epoch 80/100\n",
      "79/79 [==============================] - 0s 5ms/step - loss: 0.2945 - accuracy: 0.8953\n",
      "Epoch 81/100\n",
      "79/79 [==============================] - 0s 6ms/step - loss: 0.2924 - accuracy: 0.8946\n",
      "Epoch 82/100\n",
      "79/79 [==============================] - 0s 5ms/step - loss: 0.2935 - accuracy: 0.8943\n",
      "Epoch 83/100\n"
     ]
    },
    {
     "name": "stdout",
     "output_type": "stream",
     "text": [
      "79/79 [==============================] - 0s 5ms/step - loss: 0.2936 - accuracy: 0.8916\n",
      "Epoch 84/100\n",
      "79/79 [==============================] - 0s 6ms/step - loss: 0.2908 - accuracy: 0.8931\n",
      "Epoch 85/100\n",
      "79/79 [==============================] - 0s 5ms/step - loss: 0.2907 - accuracy: 0.8951\n",
      "Epoch 86/100\n",
      "79/79 [==============================] - 0s 6ms/step - loss: 0.2921 - accuracy: 0.8931\n",
      "Epoch 87/100\n",
      "79/79 [==============================] - 0s 5ms/step - loss: 0.2875 - accuracy: 0.8970\n",
      "Epoch 88/100\n",
      "79/79 [==============================] - 0s 5ms/step - loss: 0.2861 - accuracy: 0.8952\n",
      "Epoch 89/100\n",
      "79/79 [==============================] - 0s 5ms/step - loss: 0.2874 - accuracy: 0.8944\n",
      "Epoch 90/100\n",
      "79/79 [==============================] - 0s 5ms/step - loss: 0.2869 - accuracy: 0.8973\n",
      "Epoch 91/100\n",
      "79/79 [==============================] - 0s 5ms/step - loss: 0.2875 - accuracy: 0.8942\n",
      "Epoch 92/100\n",
      "79/79 [==============================] - 0s 5ms/step - loss: 0.2835 - accuracy: 0.8987\n",
      "Epoch 93/100\n",
      "79/79 [==============================] - 0s 5ms/step - loss: 0.2850 - accuracy: 0.8941\n",
      "Epoch 94/100\n",
      "79/79 [==============================] - 0s 5ms/step - loss: 0.2878 - accuracy: 0.8950\n",
      "Epoch 95/100\n",
      "79/79 [==============================] - 0s 5ms/step - loss: 0.2820 - accuracy: 0.8953\n",
      "Epoch 96/100\n",
      "79/79 [==============================] - 0s 5ms/step - loss: 0.2826 - accuracy: 0.8953\n",
      "Epoch 97/100\n",
      "79/79 [==============================] - 0s 5ms/step - loss: 0.2829 - accuracy: 0.8958\n",
      "Epoch 98/100\n",
      "79/79 [==============================] - 0s 5ms/step - loss: 0.2790 - accuracy: 0.8978\n",
      "Epoch 99/100\n",
      "79/79 [==============================] - 0s 5ms/step - loss: 0.2819 - accuracy: 0.8976\n",
      "Epoch 100/100\n",
      "79/79 [==============================] - 0s 6ms/step - loss: 0.2794 - accuracy: 0.8961\n"
     ]
    },
    {
     "data": {
      "text/plain": [
       "<tensorflow.python.keras.callbacks.History at 0x15919f100>"
      ]
     },
     "execution_count": 8,
     "metadata": {},
     "output_type": "execute_result"
    }
   ],
   "source": [
    "mapper_model = tf.keras.models.Sequential([\n",
    "  tf.keras.layers.Dense(64,activation='relu'),\n",
    "    tf.keras.layers.Dense(32,activation='relu'),\n",
    "  tf.keras.layers.Dense(10, activation='softmax')\n",
    "])\n",
    "\n",
    "mapper_model.compile(\n",
    "    loss='categorical_crossentropy',\n",
    "    optimizer=tf.keras.optimizers.Adam(0.001),\n",
    "    metrics=['accuracy'],\n",
    ")\n",
    "\n",
    "mapper_model.fit(x_map, y_train_small,\n",
    "          batch_size=batch_size,\n",
    "          epochs=100,\n",
    "          verbose=1)"
   ]
  },
  {
   "cell_type": "code",
   "execution_count": 9,
   "metadata": {},
   "outputs": [],
   "source": [
    "def mapper_predict(x_test):\n",
    "    x_map_test = mapper.project(np.reshape(x_test,(len(x_test),784)))\n",
    "    return mapper_model.predict(x_map_test)"
   ]
  },
  {
   "cell_type": "markdown",
   "metadata": {},
   "source": [
    "## Mapper Classifier profiling"
   ]
  },
  {
   "cell_type": "code",
   "execution_count": null,
   "metadata": {},
   "outputs": [],
   "source": []
  },
  {
   "cell_type": "markdown",
   "metadata": {},
   "source": [
    "## Tests"
   ]
  },
  {
   "cell_type": "code",
   "execution_count": 10,
   "metadata": {},
   "outputs": [
    {
     "name": "stdout",
     "output_type": "stream",
     "text": [
      "11.233298269999977\n",
      "accuracy: nnet: 1.0, mapper: 0.83\n"
     ]
    }
   ],
   "source": [
    "x_test_small = x_test[:100,::]\n",
    "y_test_small = y_test[:100,::]\n",
    "\n",
    "true = np.argmax(y_test_small,axis=1)\n",
    "preds = np.argmax(model.predict(x_test_small),axis=1)\n",
    "\n",
    "with elapsed_timer() as elapsed:\n",
    "    preds_mapper = np.argmax(mapper_predict(x_test_small),axis=1)\n",
    "print(elapsed())\n",
    "\n",
    "# print(preds)\n",
    "# print(preds_mapper)\n",
    "# print(true)\n",
    "\n",
    "print(\"accuracy: nnet: {}, mapper: {}\".format(np.sum(preds==true)/len(true),np.sum(preds_mapper==true)/len(true)))"
   ]
  },
  {
   "cell_type": "code",
   "execution_count": 11,
   "metadata": {},
   "outputs": [
    {
     "data": {
      "image/png": "[encoded data removed]",
      "text/plain": [
       "<Figure size 432x288 with 1 Axes>"
      ]
     },
     "metadata": {
      "needs_background": "light"
     },
     "output_type": "display_data"
    }
   ],
   "source": [
    "import matplotlib.pyplot as plt\n",
    "import numpy as np\n",
    "\n",
    "i=50\n",
    "img=x_test[i]\n",
    "pred_nn=np.argmax(model.predict(np.array([img])))\n",
    "pred_map=np.argmax(mapper_predict(np.array([img])))\n",
    "plt.imshow(np.squeeze(img), cmap = 'Greys')\n",
    "plt.title(\"label={}, pred_nn={}, pred_map={}\".format(np.argmax(y_test[i]),pred_nn,pred_map))\n",
    "plt.show()"
   ]
  },
  {
   "cell_type": "code",
   "execution_count": null,
   "metadata": {},
   "outputs": [],
   "source": []
  }
 ],
 "metadata": {
  "kernelspec": {
   "display_name": "env",
   "language": "python",
   "name": "env"
  },
  "language_info": {
   "codemirror_mode": {
    "name": "ipython",
    "version": 3
   },
   "file_extension": ".py",
   "mimetype": "text/x-python",
   "name": "python",
   "nbconvert_exporter": "python",
   "pygments_lexer": "ipython3",
   "version": "3.8.2"
  }
 },
 "nbformat": 4,
 "nbformat_minor": 4
}
